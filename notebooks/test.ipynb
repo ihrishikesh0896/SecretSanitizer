{
 "cells": [
  {
   "cell_type": "code",
   "execution_count": 4,
   "metadata": {},
   "outputs": [],
   "source": [
    "import tomlkit\n",
    "\n",
    "def load_rules_from_config(config_file):\n",
    "    try:\n",
    "        with open(config_file, 'r', encoding='utf-8') as f:\n",
    "            config_data = tomlkit.load(f)\n",
    "        return config_data.get('rules', [])\n",
    "    except Exception as e:\n",
    "        print(f\"Error reading or parsing config file: {e}\")\n",
    "        return []"
   ]
  },
  {
   "cell_type": "code",
   "execution_count": 5,
   "metadata": {},
   "outputs": [
    {
     "data": {
      "text/plain": [
       "<AoT [{'id': 'adafruit-api-key', 'description': 'Identified a potential Adafruit API Key, which could lead to unauthorized access to Adafruit services and sensitive data exposure.', 'regex': '(?i)(?:adafruit)(?:[0-9a-z\\\\-_\\\\t .]{0,20})(?:[\\\\s|\\']|[\\\\s|\"]){0,3}(?:=|>|:{1,3}=|\\\\|\\\\|:|<=|=>|:|\\\\?=)(?:\\'|\\\\\"|\\\\s|=|\\\\x60){0,5}([a-z0-9_-]{32})(?:[\\'|\\\\\"|\\\\n|\\\\r|\\\\s|\\\\x60|;]|$)', 'keywords': ['adafruit']}, {'id': 'adobe-client-id', 'description': 'Detected a pattern that resembles an Adobe OAuth Web Client ID, posing a risk of compromised Adobe integrations and data breaches.', 'regex': '(?i)(?:adobe)(?:[0-9a-z\\\\-_\\\\t .]{0,20})(?:[\\\\s|\\']|[\\\\s|\"]){0,3}(?:=|>|:{1,3}=|\\\\|\\\\|:|<=|=>|:|\\\\?=)(?:\\'|\\\\\"|\\\\s|=|\\\\x60){0,5}([a-f0-9]{32})(?:[\\'|\\\\\"|\\\\n|\\\\r|\\\\s|\\\\x60|;]|$)', 'keywords': ['adobe']}]>"
      ]
     },
     "execution_count": 5,
     "metadata": {},
     "output_type": "execute_result"
    }
   ],
   "source": [
    "load_rules_from_config('/Users/hrishikesh/Desktop/github_projects/secret-pusher/regex.toml')"
   ]
  },
  {
   "cell_type": "code",
   "execution_count": 8,
   "metadata": {},
   "outputs": [
    {
     "name": "stdout",
     "output_type": "stream",
     "text": [
      "Number of rules loaded: 166\n",
      "First rule ID: adafruit-api-key\n",
      "First rule ID: (?i)(?:adafruit)(?:[0-9a-z\\-_\\t .]{0,20})(?:[\\s|']|[\\s|\"]){0,3}(?:=|>|:{1,3}=|\\|\\|:|<=|=>|:|\\?=)(?:'|\\\"|\\s|=|\\x60){0,5}([a-z0-9_-]{32})(?:['|\\\"|\\n|\\r|\\s|\\x60|;]|$)\n",
      "Last rule ID: zendesk-secret-key\n"
     ]
    }
   ],
   "source": [
    "rules = load_rules_from_config('/Users/hrishikesh/Desktop/github_projects/secret-pusher/regex.toml')\n",
    "print(f\"Number of rules loaded: {len(rules)}\")\n",
    "if rules:\n",
    "    print(f\"First rule ID: {rules[0]['id']}\")\n",
    "    print(f\"First rule ID: {rules[0]['regex']}\")\n",
    "    print(f\"Last rule ID: {rules[-1]['id']}\")\n"
   ]
  },
  {
   "cell_type": "code",
   "execution_count": null,
   "metadata": {},
   "outputs": [],
   "source": []
  }
 ],
 "metadata": {
  "kernelspec": {
   "display_name": "env",
   "language": "python",
   "name": "python3"
  },
  "language_info": {
   "codemirror_mode": {
    "name": "ipython",
    "version": 3
   },
   "file_extension": ".py",
   "mimetype": "text/x-python",
   "name": "python",
   "nbconvert_exporter": "python",
   "pygments_lexer": "ipython3",
   "version": "3.9.13"
  }
 },
 "nbformat": 4,
 "nbformat_minor": 2
}
