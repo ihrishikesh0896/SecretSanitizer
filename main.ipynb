{
 "cells": [
  {
   "cell_type": "code",
   "execution_count": 46,
   "metadata": {},
   "outputs": [],
   "source": [
    "import git\n",
    "from pathlib import Path\n",
    "import sys"
   ]
  },
  {
   "cell_type": "code",
   "execution_count": 47,
   "metadata": {},
   "outputs": [],
   "source": [
    "url = 'https://github.com/ihrishikesh0896/secret_store'\n",
    "repo_name = url.split('/')[-1]\n",
    "workspace_dir = '../WORKSPACE'"
   ]
  },
  {
   "cell_type": "code",
   "execution_count": 48,
   "metadata": {},
   "outputs": [],
   "source": [
    "repo_path = Path(workspace_dir) / repo_name"
   ]
  },
  {
   "cell_type": "code",
   "execution_count": 49,
   "metadata": {},
   "outputs": [
    {
     "name": "stderr",
     "output_type": "stream",
     "text": [
      "Repository already exists at ../WORKSPACE/secret_store\n"
     ]
    }
   ],
   "source": [
    "if repo_path.exists():\n",
    "        print(f\"Repository already exists at {repo_path}\", file=sys.stderr)\n",
    "else:\n",
    "        print('s')\n"
   ]
  },
  {
   "cell_type": "code",
   "execution_count": 35,
   "metadata": {},
   "outputs": [],
   "source": [
    "def clone_repo(url, workspace_dir):\n",
    "    repo_name = url.split('/')[-1]\n",
    "    global repo_path\n",
    "    repo_path = Path(workspace_dir) / repo_name\n",
    "    if repo_path.exists():\n",
    "        print(f\"Repository already exists at {repo_path}\", file=sys.stderr)\n",
    "        return None\n",
    "    return git.Repo.clone_from(url, repo_path)"
   ]
  },
  {
   "cell_type": "code",
   "execution_count": 36,
   "metadata": {},
   "outputs": [
    {
     "name": "stderr",
     "output_type": "stream",
     "text": [
      "Repository already exists at /Users/hrishikesh/Desktop/github_projects/WORKSPACE/secret_store\n"
     ]
    }
   ],
   "source": [
    "clone_repo(url, workspace_dir)"
   ]
  },
  {
   "cell_type": "code",
   "execution_count": 37,
   "metadata": {},
   "outputs": [],
   "source": [
    "def commit_changes(repo_path, branch_name):\n",
    "    repo = git.Repo(repo_path)\n",
    "    repo.git.checkout('HEAD', b=branch_name)\n",
    "    repo.git.add(A=True)\n",
    "    repo.git.commit(m='Replace secrets with dummy values')\n",
    "    # Note: Pushing changes might require authentication setup\n",
    "    repo.git.push('origin', branch_name)"
   ]
  },
  {
   "cell_type": "code",
   "execution_count": 38,
   "metadata": {},
   "outputs": [],
   "source": [
    "commit_changes(repo_path,'mergeerrr')"
   ]
  },
  {
   "cell_type": "code",
   "execution_count": 50,
   "metadata": {},
   "outputs": [
    {
     "name": "stdout",
     "output_type": "stream",
     "text": [
      "Hello my name is John and I work in GeeksForGeeks.\n"
     ]
    }
   ],
   "source": [
    "class GFG:\n",
    "\tdef __init__(self, name, company):\n",
    "\t\tself.name = name\n",
    "\t\tself.company = company\n",
    "\n",
    "\tdef show(self):\n",
    "\t\tprint(\"Hello my name is \" + self.name+\" and I\" +\n",
    "\t\t\t\" work in \"+self.company+\".\")\n",
    "\n",
    "\n",
    "obj = GFG(\"John\", \"GeeksForGeeks\")\n",
    "obj.show()\n"
   ]
  },
  {
   "cell_type": "code",
   "execution_count": 51,
   "metadata": {},
   "outputs": [
    {
     "data": {
      "text/plain": [
       "<__main__.GFG at 0x7ff2f8963850>"
      ]
     },
     "execution_count": 51,
     "metadata": {},
     "output_type": "execute_result"
    }
   ],
   "source": [
    "obj"
   ]
  },
  {
   "cell_type": "code",
   "execution_count": 55,
   "metadata": {},
   "outputs": [
    {
     "ename": "SyntaxError",
     "evalue": "invalid syntax (3965311062.py, line 1)",
     "output_type": "error",
     "traceback": [
      "\u001b[0;36m  Cell \u001b[0;32mIn[55], line 1\u001b[0;36m\u001b[0m\n\u001b[0;31m    str a\u001b[0m\n\u001b[0m        ^\u001b[0m\n\u001b[0;31mSyntaxError\u001b[0m\u001b[0;31m:\u001b[0m invalid syntax\n"
     ]
    }
   ],
   "source": [
    "str a"
   ]
  },
  {
   "cell_type": "code",
   "execution_count": 16,
   "metadata": {},
   "outputs": [
    {
     "name": "stdout",
     "output_type": "stream",
     "text": [
      "60000\n"
     ]
    }
   ],
   "source": [
    "a = ['a','b','c']\n",
    "loop = 60000\n",
    "a = a * (loop //3)\n",
    "print(len(a))"
   ]
  },
  {
   "cell_type": "code",
   "execution_count": 12,
   "metadata": {},
   "outputs": [],
   "source": []
  },
  {
   "cell_type": "code",
   "execution_count": 14,
   "metadata": {},
   "outputs": [
    {
     "name": "stdout",
     "output_type": "stream",
     "text": [
      "60000\n"
     ]
    }
   ],
   "source": [
    "print(len(a))"
   ]
  },
  {
   "cell_type": "code",
   "execution_count": null,
   "metadata": {},
   "outputs": [],
   "source": []
  }
 ],
 "metadata": {
  "kernelspec": {
   "display_name": "env",
   "language": "python",
   "name": "python3"
  },
  "language_info": {
   "codemirror_mode": {
    "name": "ipython",
    "version": 3
   },
   "file_extension": ".py",
   "mimetype": "text/x-python",
   "name": "python",
   "nbconvert_exporter": "python",
   "pygments_lexer": "ipython3",
   "version": "3.9.13"
  }
 },
 "nbformat": 4,
 "nbformat_minor": 2
}
